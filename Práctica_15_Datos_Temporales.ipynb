{
  "nbformat": 4,
  "nbformat_minor": 0,
  "metadata": {
    "colab": {
      "provenance": []
    },
    "kernelspec": {
      "name": "python3",
      "display_name": "Python 3"
    },
    "language_info": {
      "name": "python"
    }
  },
  "cells": [
    {
      "cell_type": "markdown",
      "source": [
        "#Práctica #15: Datos Temporales"
      ],
      "metadata": {
        "id": "N2qwFhzwAcZr"
      }
    },
    {
      "cell_type": "markdown",
      "source": [
        "Antonio Calzadilla Miranda"
      ],
      "metadata": {
        "id": "qYyvc9SpIiHL"
      }
    },
    {
      "cell_type": "markdown",
      "source": [
        "###Ejercicio 01:Tipo de Datos Correcto"
      ],
      "metadata": {
        "id": "xaKRRVy0Al1z"
      }
    },
    {
      "cell_type": "code",
      "execution_count": 1,
      "metadata": {
        "colab": {
          "base_uri": "https://localhost:8080/"
        },
        "id": "WZ8DVShv_Q4E",
        "outputId": "34f205c8-8738-4577-9f6f-374f9cf7206b"
      },
      "outputs": [
        {
          "output_type": "stream",
          "name": "stdout",
          "text": [
            "Mounted at /content/drive\n"
          ]
        }
      ],
      "source": [
        "from google.colab import drive\n",
        "drive.mount('/content/drive')"
      ]
    },
    {
      "cell_type": "code",
      "source": [
        "  #Importamos la librería de pandas y asignamos un alias (pd)\n",
        "  import pandas as pd\n",
        "\n",
        "  # Leemos el archivo Airdata\n",
        "  df = pd.read_csv(\"/content/drive/MyDrive/Colab Notebooks/Programacion /Semana 07 09142025/Airdata.csv\")\n",
        "  #imprimimos el nombre de las columnas y las primeras cinco lineas\n",
        "  print(df.dtypes)\n",
        "  print(df.head(3))"
      ],
      "metadata": {
        "colab": {
          "base_uri": "https://localhost:8080/"
        },
        "id": "DQSyw0AY_Wig",
        "outputId": "63e70a68-8c32-41fd-e70b-f7bd8684ab74"
      },
      "execution_count": 32,
      "outputs": [
        {
          "output_type": "stream",
          "name": "stdout",
          "text": [
            "DateTime           object\n",
            "Temperature       float64\n",
            "Humidity            int64\n",
            "Wind_Speed        float64\n",
            "Wind_Direction    float64\n",
            "NO2_Location_A    float64\n",
            "NO2_Location_B    float64\n",
            "NO2_Location_C    float64\n",
            "dtype: object\n",
            "        DateTime  Temperature  Humidity  Wind_Speed  Wind_Direction  \\\n",
            "0  1/1/2020 0:00     2.180529        87    1.484318        75.96376   \n",
            "1  1/1/2020 1:00     1.490529        89    2.741678       113.19859   \n",
            "2  1/1/2020 2:00     1.690529        85    3.563818       135.00000   \n",
            "\n",
            "   NO2_Location_A  NO2_Location_B  NO2_Location_C  \n",
            "0           39.23           52.88           62.37  \n",
            "1           38.30           44.95           52.53  \n",
            "2             NaN           48.40           54.80  \n"
          ]
        }
      ]
    },
    {
      "cell_type": "code",
      "source": [
        "#conversion de la columna DateTime\n",
        "df['DateTime'] = pd.to_datetime(df['DateTime'])\n",
        "print(df.dtypes)\n",
        "print(df.head(3))"
      ],
      "metadata": {
        "colab": {
          "base_uri": "https://localhost:8080/"
        },
        "id": "foW12CDsBTXQ",
        "outputId": "712e8148-942c-40bb-dd80-18fa81a06463"
      },
      "execution_count": 34,
      "outputs": [
        {
          "output_type": "stream",
          "name": "stdout",
          "text": [
            "DateTime          datetime64[ns]\n",
            "Temperature              float64\n",
            "Humidity                   int64\n",
            "Wind_Speed               float64\n",
            "Wind_Direction           float64\n",
            "NO2_Location_A           float64\n",
            "NO2_Location_B           float64\n",
            "NO2_Location_C           float64\n",
            "dtype: object\n",
            "             DateTime  Temperature  Humidity  Wind_Speed  Wind_Direction  \\\n",
            "0 2020-01-01 00:00:00     2.180529        87    1.484318        75.96376   \n",
            "1 2020-01-01 01:00:00     1.490529        89    2.741678       113.19859   \n",
            "2 2020-01-01 02:00:00     1.690529        85    3.563818       135.00000   \n",
            "\n",
            "   NO2_Location_A  NO2_Location_B  NO2_Location_C  \n",
            "0           39.23           52.88           62.37  \n",
            "1           38.30           44.95           52.53  \n",
            "2             NaN           48.40           54.80  \n"
          ]
        }
      ]
    },
    {
      "cell_type": "markdown",
      "source": [
        "##Ejercicio 02: Extraer componentes de fecha y tiempo"
      ],
      "metadata": {
        "id": "gxfvO17GEaPS"
      }
    },
    {
      "cell_type": "code",
      "source": [
        "df = (df\n",
        " .assign(\n",
        "     year = df['DateTime'].dt.year,\n",
        "     month = df['DateTime'].dt.month,\n",
        "     day = df['DateTime'].dt.day,\n",
        "     hour = df['DateTime'].dt.hour,\n",
        "    )\n",
        ")"
      ],
      "metadata": {
        "id": "1YLyjoHQCb05"
      },
      "execution_count": 36,
      "outputs": []
    },
    {
      "cell_type": "code",
      "source": [
        "print(df.head(3))"
      ],
      "metadata": {
        "colab": {
          "base_uri": "https://localhost:8080/"
        },
        "id": "N3ltYeyRDWEn",
        "outputId": "28c63c24-c5bf-4403-d0cc-e50209f056d1"
      },
      "execution_count": 38,
      "outputs": [
        {
          "output_type": "stream",
          "name": "stdout",
          "text": [
            "             DateTime  Temperature  Humidity  Wind_Speed  Wind_Direction  \\\n",
            "0 2020-01-01 00:00:00     2.180529        87    1.484318        75.96376   \n",
            "1 2020-01-01 01:00:00     1.490529        89    2.741678       113.19859   \n",
            "2 2020-01-01 02:00:00     1.690529        85    3.563818       135.00000   \n",
            "\n",
            "   NO2_Location_A  NO2_Location_B  NO2_Location_C  month  day  hour  year  \n",
            "0           39.23           52.88           62.37      1    1     0  2020  \n",
            "1           38.30           44.95           52.53      1    1     1  2020  \n",
            "2             NaN           48.40           54.80      1    1     2  2020  \n"
          ]
        }
      ]
    },
    {
      "cell_type": "markdown",
      "source": [
        "##Ejercicio 03: Aritmética - Suma de Intervalos (timedelta)"
      ],
      "metadata": {
        "id": "evaPz9l_IT5C"
      }
    },
    {
      "cell_type": "code",
      "source": [
        "# sumar 10 días, 7 horas y 15 minutos\n",
        "df[\"fecha_modificada\"] = df[\"DateTime\"] + pd.Timedelta(days=10, hours=7, minutes=15)\n",
        "\n",
        "print(df.head())"
      ],
      "metadata": {
        "colab": {
          "base_uri": "https://localhost:8080/"
        },
        "id": "lCapl8GCFKAi",
        "outputId": "8e2e756c-43c7-4490-a306-db2772a891ee"
      },
      "execution_count": 40,
      "outputs": [
        {
          "output_type": "stream",
          "name": "stdout",
          "text": [
            "             DateTime  Temperature  Humidity  Wind_Speed  Wind_Direction  \\\n",
            "0 2020-01-01 00:00:00     2.180529        87    1.484318       75.963760   \n",
            "1 2020-01-01 01:00:00     1.490529        89    2.741678      113.198590   \n",
            "2 2020-01-01 02:00:00     1.690529        85    3.563818      135.000000   \n",
            "3 2020-01-01 03:00:00     1.430529        84    2.811690      129.805570   \n",
            "4 2020-01-01 04:00:00     0.840529        86    1.800000      126.869896   \n",
            "\n",
            "   NO2_Location_A  NO2_Location_B  NO2_Location_C  month  day  hour  year  \\\n",
            "0           39.23           52.88           62.37      1    1     0  2020   \n",
            "1           38.30           44.95           52.53      1    1     1  2020   \n",
            "2             NaN           48.40           54.80      1    1     2  2020   \n",
            "3           37.28           47.18           50.80      1    1     3  2020   \n",
            "4           29.97           41.48           54.43      1    1     4  2020   \n",
            "\n",
            "     fecha_modificada  \n",
            "0 2020-01-11 07:15:00  \n",
            "1 2020-01-11 08:15:00  \n",
            "2 2020-01-11 09:15:00  \n",
            "3 2020-01-11 10:15:00  \n",
            "4 2020-01-11 11:15:00  \n"
          ]
        }
      ]
    },
    {
      "cell_type": "code",
      "source": [
        "print(df[[\"DateTime\", \"fecha_modificada\"]].head())"
      ],
      "metadata": {
        "colab": {
          "base_uri": "https://localhost:8080/"
        },
        "id": "lvFG2t5DGrZc",
        "outputId": "fb103383-ab71-4294-9beb-fa566337c46b"
      },
      "execution_count": 41,
      "outputs": [
        {
          "output_type": "stream",
          "name": "stdout",
          "text": [
            "             DateTime    fecha_modificada\n",
            "0 2020-01-01 00:00:00 2020-01-11 07:15:00\n",
            "1 2020-01-01 01:00:00 2020-01-11 08:15:00\n",
            "2 2020-01-01 02:00:00 2020-01-11 09:15:00\n",
            "3 2020-01-01 03:00:00 2020-01-11 10:15:00\n",
            "4 2020-01-01 04:00:00 2020-01-11 11:15:00\n"
          ]
        }
      ]
    },
    {
      "cell_type": "markdown",
      "source": [
        "###Validacion de tipo de datos"
      ],
      "metadata": {
        "id": "AANfqoNkAzsl"
      }
    },
    {
      "cell_type": "code",
      "source": [
        "print(df.dtypes)"
      ],
      "metadata": {
        "colab": {
          "base_uri": "https://localhost:8080/"
        },
        "id": "vbK7GiJ4Aye4",
        "outputId": "a0eb0024-1c8e-4cbf-8853-a79069596ef2"
      },
      "execution_count": 42,
      "outputs": [
        {
          "output_type": "stream",
          "name": "stdout",
          "text": [
            "DateTime            datetime64[ns]\n",
            "Temperature                float64\n",
            "Humidity                     int64\n",
            "Wind_Speed                 float64\n",
            "Wind_Direction             float64\n",
            "NO2_Location_A             float64\n",
            "NO2_Location_B             float64\n",
            "NO2_Location_C             float64\n",
            "month                        int32\n",
            "day                          int32\n",
            "hour                         int32\n",
            "year                         int32\n",
            "fecha_modificada    datetime64[ns]\n",
            "dtype: object\n"
          ]
        }
      ]
    },
    {
      "cell_type": "markdown",
      "source": [
        "##Ejercicio 04: Timestamp"
      ],
      "metadata": {
        "id": "7P14XwDXHsKF"
      }
    },
    {
      "cell_type": "code",
      "source": [
        "# Convertir a timestamp Unix (en segundos)\n",
        "df[\"UnixTimestamp\"] = df[\"DateTime\"].astype(\"int64\") // 10**9  #Para llever a segundos\n",
        "\n",
        "# Mostrar solo las primeras tres filas de ambas columnas\n",
        "print(df[[\"DateTime\", \"UnixTimestamp\"]].head(3))"
      ],
      "metadata": {
        "colab": {
          "base_uri": "https://localhost:8080/"
        },
        "id": "WGQHiQJnHpOM",
        "outputId": "78c83f10-02d3-4f32-b0f7-899b0819d78e"
      },
      "execution_count": 28,
      "outputs": [
        {
          "output_type": "stream",
          "name": "stdout",
          "text": [
            "             DateTime  UnixTimestamp\n",
            "0 2020-01-01 00:00:00     1577836800\n",
            "1 2020-01-01 01:00:00     1577840400\n",
            "2 2020-01-01 02:00:00     1577844000\n"
          ]
        }
      ]
    },
    {
      "cell_type": "markdown",
      "source": [
        "##Ejercicio 05: Filtrado de Fechas"
      ],
      "metadata": {
        "id": "9t5GZnqtKeUu"
      }
    },
    {
      "cell_type": "code",
      "source": [
        "# Filtra aquellas fechas que son mayores a 2020-11-01\n",
        "filtered_df = df[df['DateTime'] > '2020-11-01']\n",
        "\n",
        "# Imprime el resultado\n",
        "print(filtered_df[['DateTime']].head())"
      ],
      "metadata": {
        "colab": {
          "base_uri": "https://localhost:8080/"
        },
        "id": "Q3vEFn2-Kgs2",
        "outputId": "5267ec66-81ec-4700-c7c9-97840208ce47"
      },
      "execution_count": 45,
      "outputs": [
        {
          "output_type": "stream",
          "name": "stdout",
          "text": [
            "                DateTime\n",
            "7321 2020-11-01 01:00:00\n",
            "7322 2020-11-01 02:00:00\n",
            "7323 2020-11-01 03:00:00\n",
            "7324 2020-11-01 04:00:00\n",
            "7325 2020-11-01 05:00:00\n"
          ]
        }
      ]
    }
  ]
}